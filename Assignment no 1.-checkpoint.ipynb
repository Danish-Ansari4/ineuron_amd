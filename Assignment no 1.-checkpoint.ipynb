{
 "cells": [
  {
   "cell_type": "raw",
   "id": "c60eb493",
   "metadata": {},
   "source": [
    "1. In the below elements which of them are values or an expression? eg:- values can be integer or string and expressions will be mathematical operators.\n",
    "* \n",
    "'hello'\n",
    "-87.8\n",
    "- \n",
    "/ \n",
    "+\t\n",
    "6 \n",
    "Ans.\n",
    "values: 'hello',-87.8,6\n",
    "expression: *,-,/,+"
   ]
  },
  {
   "cell_type": "raw",
   "id": "b76748c7",
   "metadata": {},
   "source": [
    "2. What is the difference between string and variable?\n",
    "\n",
    "Ans. A Variable is a store of information, and a String is a type of information you would store in a Variable. "
   ]
  },
  {
   "cell_type": "raw",
   "id": "89abe88b",
   "metadata": {},
   "source": [
    "3. Describe three different data types.\n",
    "\n",
    "Ans. Different types of data types are as follow:\n",
    "1. string\n",
    "2. integer\n",
    "3. bolean\n",
    "4. float"
   ]
  },
  {
   "cell_type": "raw",
   "id": "abc5eded",
   "metadata": {},
   "source": [
    "4. What is an expression made up of? What do all expressions do?\n",
    "Ans. An expression is made up of variables, operators, and method invocations which are constructed according to the syntax of the language that evaluates to a single value."
   ]
  },
  {
   "cell_type": "raw",
   "id": "41984d97",
   "metadata": {},
   "source": [
    "5. This assignment statements, like spam = 10. What is the difference \n",
    "between an expression and a statement?\n",
    "Ans. Expression is made up of values, containers,and mathematical operators\n",
    "(operands) and the statement is just like a command that a python \n",
    "interpreter executes like print.\n",
    "\n"
   ]
  },
  {
   "cell_type": "raw",
   "id": "4a8b8617",
   "metadata": {},
   "source": [
    "6. After running the following code, what does the variable bacon contain?\n"
   ]
  },
  {
   "cell_type": "code",
   "execution_count": 3,
   "id": "260db107",
   "metadata": {},
   "outputs": [
    {
     "data": {
      "text/plain": [
       "23"
      ]
     },
     "execution_count": 3,
     "metadata": {},
     "output_type": "execute_result"
    }
   ],
   "source": [
    "bacon= 22\n",
    "bacon + 1\n"
   ]
  },
  {
   "cell_type": "raw",
   "id": "57bdaf66",
   "metadata": {},
   "source": [
    "7. What should the values of the following two terms be?"
   ]
  },
  {
   "cell_type": "code",
   "execution_count": 5,
   "id": "32d98fe1",
   "metadata": {},
   "outputs": [
    {
     "data": {
      "text/plain": [
       "'spamspamspam'"
      ]
     },
     "execution_count": 5,
     "metadata": {},
     "output_type": "execute_result"
    }
   ],
   "source": [
    "'spam' + 'spamspam'"
   ]
  },
  {
   "cell_type": "code",
   "execution_count": 6,
   "id": "c9d371f6",
   "metadata": {},
   "outputs": [
    {
     "data": {
      "text/plain": [
       "'spamspamspam'"
      ]
     },
     "execution_count": 6,
     "metadata": {},
     "output_type": "execute_result"
    }
   ],
   "source": [
    "\"spam\"*3"
   ]
  },
  {
   "cell_type": "raw",
   "id": "dd508c1f",
   "metadata": {},
   "source": [
    "8. Why is eggs a valid variable name while 100 is invalid?\n",
    "\n",
    "Ans. Because name of variables always start from alphabet in between any place\n",
    "we can assign integer eg : d100,den,val1"
   ]
  },
  {
   "cell_type": "raw",
   "id": "0e9f4534",
   "metadata": {},
   "source": [
    "9. What three functions can be used to get the integer, floating-point \n",
    "number, or string version of a value?\n",
    "\n",
    "Ans.str()\n",
    "int()\n",
    "float()\n",
    "\n"
   ]
  },
  {
   "cell_type": "raw",
   "id": "ebdc519c",
   "metadata": {},
   "source": [
    "10. Why does this expression cause an error? How can you fix it?\n",
    "'I have eaten ' + 99 + ' burritos.'\n",
    "\n",
    "Ans.  Because 99 is an integer it cannot be concatenated with strings, if we have to concatenate it we need to do typecasting\n"
   ]
  }
 ],
 "metadata": {
  "kernelspec": {
   "display_name": "Python 3 (ipykernel)",
   "language": "python",
   "name": "python3"
  },
  "language_info": {
   "codemirror_mode": {
    "name": "ipython",
    "version": 3
   },
   "file_extension": ".py",
   "mimetype": "text/x-python",
   "name": "python",
   "nbconvert_exporter": "python",
   "pygments_lexer": "ipython3",
   "version": "3.9.7"
  }
 },
 "nbformat": 4,
 "nbformat_minor": 5
}
