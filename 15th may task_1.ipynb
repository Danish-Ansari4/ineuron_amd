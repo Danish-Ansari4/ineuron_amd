{
 "cells": [
  {
   "cell_type": "code",
   "execution_count": 9,
   "id": "8282ed77",
   "metadata": {},
   "outputs": [],
   "source": [
    "s=\"This is my first string of python programming language and I am learnING string and its function\""
   ]
  },
  {
   "cell_type": "code",
   "execution_count": 10,
   "id": "c1820311",
   "metadata": {},
   "outputs": [],
   "source": [
    "# Q1. Try to extract data index one to index to 300 with a jump of 3"
   ]
  },
  {
   "cell_type": "code",
   "execution_count": 11,
   "id": "b6ee68fc",
   "metadata": {},
   "outputs": [
    {
     "data": {
      "text/plain": [
       "'h   r rgfyopgmnlgga alrNsi dtfco'"
      ]
     },
     "execution_count": 11,
     "metadata": {},
     "output_type": "execute_result"
    }
   ],
   "source": [
    "s[1:300:3]"
   ]
  },
  {
   "cell_type": "code",
   "execution_count": 12,
   "id": "40c66631",
   "metadata": {},
   "outputs": [],
   "source": [
    "# Q2. Try to reverse fucntion without reversed function"
   ]
  },
  {
   "cell_type": "code",
   "execution_count": 13,
   "id": "0321f7bc",
   "metadata": {},
   "outputs": [
    {
     "data": {
      "text/plain": [
       "'noitcnuf sti dna gnirts GNInrael ma I dna egaugnal gnimmargorp nohtyp fo gnirts tsrif ym si sihT'"
      ]
     },
     "execution_count": 13,
     "metadata": {},
     "output_type": "execute_result"
    }
   ],
   "source": [
    "s[::-1]"
   ]
  },
  {
   "cell_type": "code",
   "execution_count": 43,
   "id": "ff1eb53d",
   "metadata": {},
   "outputs": [],
   "source": [
    " # Q3.Try to split a string after conversion of entire string in uppercase"
   ]
  },
  {
   "cell_type": "code",
   "execution_count": 34,
   "id": "1113e8e3",
   "metadata": {},
   "outputs": [],
   "source": [
    "s1=s.upper()"
   ]
  },
  {
   "cell_type": "code",
   "execution_count": 35,
   "id": "aab0eb66",
   "metadata": {},
   "outputs": [
    {
     "data": {
      "text/plain": [
       "'THIS IS MY FIRST STRING OF PYTHON PROGRAMMING LANGUAGE AND I AM LEARNING STRING AND ITS FUNCTION'"
      ]
     },
     "execution_count": 35,
     "metadata": {},
     "output_type": "execute_result"
    }
   ],
   "source": [
    "s1"
   ]
  },
  {
   "cell_type": "code",
   "execution_count": 36,
   "id": "a6ac648a",
   "metadata": {},
   "outputs": [
    {
     "data": {
      "text/plain": [
       "['THIS',\n",
       " 'IS',\n",
       " 'MY',\n",
       " 'FIRST',\n",
       " 'STRING',\n",
       " 'OF',\n",
       " 'PYTHON',\n",
       " 'PROGRAMMING',\n",
       " 'LANGUAGE',\n",
       " 'AND',\n",
       " 'I',\n",
       " 'AM',\n",
       " 'LEARNING',\n",
       " 'STRING',\n",
       " 'AND',\n",
       " 'ITS',\n",
       " 'FUNCTION']"
      ]
     },
     "execution_count": 36,
     "metadata": {},
     "output_type": "execute_result"
    }
   ],
   "source": [
    "s1.split(\" \")"
   ]
  },
  {
   "cell_type": "code",
   "execution_count": 37,
   "id": "0a92e6bf",
   "metadata": {},
   "outputs": [
    {
     "data": {
      "text/plain": [
       "'THIS IS MY FIRST STRING OF PYTHON PROGRAMMING LANGUAGE AND I AM LEARNING STRING AND ITS FUNCTION'"
      ]
     },
     "execution_count": 37,
     "metadata": {},
     "output_type": "execute_result"
    }
   ],
   "source": [
    "s1"
   ]
  },
  {
   "cell_type": "code",
   "execution_count": 44,
   "id": "7f02c57a",
   "metadata": {},
   "outputs": [],
   "source": [
    " #  Q4.Try to convret whole string lower case"
   ]
  },
  {
   "cell_type": "code",
   "execution_count": 39,
   "id": "6e3336a4",
   "metadata": {},
   "outputs": [
    {
     "data": {
      "text/plain": [
       "'this is my first string of python programming language and i am learning string and its function'"
      ]
     },
     "execution_count": 39,
     "metadata": {},
     "output_type": "execute_result"
    }
   ],
   "source": [
    "s1.lower()"
   ]
  },
  {
   "cell_type": "code",
   "execution_count": 45,
   "id": "50c521eb",
   "metadata": {},
   "outputs": [],
   "source": [
    " # Q5.Try to captlize the whole string in captlize"
   ]
  },
  {
   "cell_type": "code",
   "execution_count": 41,
   "id": "ec89df92",
   "metadata": {},
   "outputs": [
    {
     "data": {
      "text/plain": [
       "'This is my first string of python programming language and i am learning string and its function'"
      ]
     },
     "execution_count": 41,
     "metadata": {},
     "output_type": "execute_result"
    }
   ],
   "source": [
    "s1.capitalize()"
   ]
  },
  {
   "cell_type": "code",
   "execution_count": 47,
   "id": "75be6e05",
   "metadata": {},
   "outputs": [],
   "source": [
    "# Q6.Write a difference between isalnum or isalpha"
   ]
  },
  {
   "cell_type": "raw",
   "id": "38a0e520",
   "metadata": {},
   "source": [
    "isalnum is used for either alphabet or a single number present in a string \n",
    "where as isalpha is used to show alphabet is present in a string. "
   ]
  },
  {
   "cell_type": "code",
   "execution_count": 57,
   "id": "1a57537d",
   "metadata": {},
   "outputs": [],
   "source": [
    "#Q7. Try to give example of expandtab"
   ]
  },
  {
   "cell_type": "code",
   "execution_count": 58,
   "id": "5dffb54f",
   "metadata": {},
   "outputs": [],
   "source": [
    "s1='Danish\\tansari\\tineuron'"
   ]
  },
  {
   "cell_type": "code",
   "execution_count": 59,
   "id": "2bb07b3d",
   "metadata": {},
   "outputs": [
    {
     "data": {
      "text/plain": [
       "'Danish  ansari  ineuron'"
      ]
     },
     "execution_count": 59,
     "metadata": {},
     "output_type": "execute_result"
    }
   ],
   "source": [
    "s1.expandtabs()"
   ]
  },
  {
   "cell_type": "code",
   "execution_count": 60,
   "id": "55bc3e51",
   "metadata": {},
   "outputs": [],
   "source": [
    "# Q8.give an example of strip ,lstrip,rstrip"
   ]
  },
  {
   "cell_type": "code",
   "execution_count": 53,
   "id": "e959266a",
   "metadata": {},
   "outputs": [],
   "source": [
    "s=\"   This is my first string of python programming language and I am learnING string and its function   \""
   ]
  },
  {
   "cell_type": "code",
   "execution_count": 54,
   "id": "a4f8b9b5",
   "metadata": {},
   "outputs": [
    {
     "data": {
      "text/plain": [
       "'This is my first string of python programming language and I am learnING string and its function'"
      ]
     },
     "execution_count": 54,
     "metadata": {},
     "output_type": "execute_result"
    }
   ],
   "source": [
    "s.strip()"
   ]
  },
  {
   "cell_type": "code",
   "execution_count": 55,
   "id": "95a8cfcf",
   "metadata": {},
   "outputs": [
    {
     "data": {
      "text/plain": [
       "'This is my first string of python programming language and I am learnING string and its function   '"
      ]
     },
     "execution_count": 55,
     "metadata": {},
     "output_type": "execute_result"
    }
   ],
   "source": [
    "s.lstrip()"
   ]
  },
  {
   "cell_type": "code",
   "execution_count": 56,
   "id": "ba67d907",
   "metadata": {},
   "outputs": [
    {
     "data": {
      "text/plain": [
       "'   This is my first string of python programming language and I am learnING string and its function'"
      ]
     },
     "execution_count": 56,
     "metadata": {},
     "output_type": "execute_result"
    }
   ],
   "source": [
    "s.rstrip()"
   ]
  },
  {
   "cell_type": "code",
   "execution_count": 61,
   "id": "cb5af84c",
   "metadata": {},
   "outputs": [],
   "source": [
    "#Q9. Replace a string character by another character"
   ]
  },
  {
   "cell_type": "code",
   "execution_count": 62,
   "id": "0370df45",
   "metadata": {},
   "outputs": [],
   "source": [
    "s2= \"my name is Danish\""
   ]
  },
  {
   "cell_type": "code",
   "execution_count": 64,
   "id": "2fd145cc",
   "metadata": {},
   "outputs": [
    {
     "data": {
      "text/plain": [
       "'ma name is Danish'"
      ]
     },
     "execution_count": 64,
     "metadata": {},
     "output_type": "execute_result"
    }
   ],
   "source": [
    "s2.replace(\"y\",\"a\")"
   ]
  },
  {
   "cell_type": "code",
   "execution_count": 65,
   "id": "06199f00",
   "metadata": {},
   "outputs": [],
   "source": [
    "# Q10.try to give string center def with an example"
   ]
  },
  {
   "cell_type": "raw",
   "id": "621dc4b2",
   "metadata": {},
   "source": [
    "The center method will center align the string, using a specified character (space is default) as the fill character"
   ]
  },
  {
   "cell_type": "code",
   "execution_count": 66,
   "id": "bc8ca7d9",
   "metadata": {},
   "outputs": [],
   "source": [
    "s3=\"Danish\""
   ]
  },
  {
   "cell_type": "code",
   "execution_count": 73,
   "id": "f443ea83",
   "metadata": {},
   "outputs": [
    {
     "data": {
      "text/plain": [
       "'############Danish############'"
      ]
     },
     "execution_count": 73,
     "metadata": {},
     "output_type": "execute_result"
    }
   ],
   "source": [
    "s3.center(30,'#')"
   ]
  },
  {
   "cell_type": "code",
   "execution_count": 74,
   "id": "d8ae0d3f",
   "metadata": {},
   "outputs": [],
   "source": [
    "# Q11. defination of compiler and interpretor"
   ]
  },
  {
   "cell_type": "raw",
   "id": "6c4ce0bb",
   "metadata": {},
   "source": [
    "A compiler is a program used to convert high-level programming language into lower-level language, which can be understood by the assembly and interpreted into logical inputs.\n",
    "\n",
    "The Python interpreter is a virtual machine, meaning that it is software that emulates a physical computer.\n"
   ]
  },
  {
   "cell_type": "code",
   "execution_count": 75,
   "id": "a9bce584",
   "metadata": {},
   "outputs": [],
   "source": [
    "# Q12. python is a interpreted of compiled language"
   ]
  },
  {
   "cell_type": "raw",
   "id": "552729d5",
   "metadata": {},
   "source": [
    "In various books of python programming, it is mentioned that python language is interpreted. But that is half correct the python program is first compiled and then interpreted. The compilation part is hidden from the programmer thus, many programmers believe that it is an interpreted language. The compilation part is done first when we execute our code and this will generate byte code and internally this byte code gets converted by the python virtual machine(p.v.m) according to the underlying platform(machine+operating system)."
   ]
  },
  {
   "cell_type": "code",
   "execution_count": 77,
   "id": "3e8cc2e0",
   "metadata": {},
   "outputs": [],
   "source": [
    "# Q13. usecase of python"
   ]
  },
  {
   "cell_type": "raw",
   "id": "ea7cefce",
   "metadata": {},
   "source": [
    "Web applications.\n",
    "Software development.\n",
    "Data science.\n",
    "AI applications.\n",
    "Game development."
   ]
  }
 ],
 "metadata": {
  "kernelspec": {
   "display_name": "Python 3 (ipykernel)",
   "language": "python",
   "name": "python3"
  },
  "language_info": {
   "codemirror_mode": {
    "name": "ipython",
    "version": 3
   },
   "file_extension": ".py",
   "mimetype": "text/x-python",
   "name": "python",
   "nbconvert_exporter": "python",
   "pygments_lexer": "ipython3",
   "version": "3.9.7"
  }
 },
 "nbformat": 4,
 "nbformat_minor": 5
}
